{
  "nbformat": 4,
  "nbformat_minor": 0,
  "metadata": {
    "colab": {
      "provenance": [],
      "authorship_tag": "ABX9TyPFYQdUSG29s10dgR1WVC5z",
      "include_colab_link": true
    },
    "kernelspec": {
      "name": "python3",
      "display_name": "Python 3"
    },
    "language_info": {
      "name": "python"
    }
  },
  "cells": [
    {
      "cell_type": "markdown",
      "metadata": {
        "id": "view-in-github",
        "colab_type": "text"
      },
      "source": [
        "<a href=\"https://colab.research.google.com/github/4rch01/Assignments/blob/main/Assignment_PR.ipynb\" target=\"_parent\"><img src=\"https://colab.research.google.com/assets/colab-badge.svg\" alt=\"Open In Colab\"/></a>"
      ]
    },
    {
      "cell_type": "code",
      "execution_count": null,
      "metadata": {
        "id": "8Bg7ZlqqAWfB"
      },
      "outputs": [],
      "source": [
        "#Creating a list\n",
        "list1 = [1, 2, 3, \"Souvik\", \"Adhikary\", \"MAKAUT\"]"
      ]
    },
    {
      "cell_type": "code",
      "source": [
        "#a) insert()\n",
        "list1.insert(5, 5)\n",
        "\n",
        "#printing new list\n",
        "print(list1)"
      ],
      "metadata": {
        "colab": {
          "base_uri": "https://localhost:8080/"
        },
        "id": "FPg65ukSAjcz",
        "outputId": "d3515c53-8d76-4e9e-e5c3-8fd52a77a560"
      },
      "execution_count": null,
      "outputs": [
        {
          "output_type": "stream",
          "name": "stdout",
          "text": [
            "[1, 2, 3, 'Souvik', 'Adhikary', 5, 5, 'MAKAUT']\n"
          ]
        }
      ]
    },
    {
      "cell_type": "code",
      "source": [
        "#b) remove()\n",
        "list1.remove(5)\n",
        "\n",
        "#printing new list\n",
        "print(list1)"
      ],
      "metadata": {
        "colab": {
          "base_uri": "https://localhost:8080/"
        },
        "id": "xNTLVju4A8Y0",
        "outputId": "68a66c6f-d9ac-4cd7-f578-820e9fab1958"
      },
      "execution_count": null,
      "outputs": [
        {
          "output_type": "stream",
          "name": "stdout",
          "text": [
            "[1, 2, 3, 'Souvik', 'Adhikary', 'MAKAUT']\n"
          ]
        }
      ]
    },
    {
      "cell_type": "code",
      "source": [
        "#c) append()\n",
        "list1.append(6)\n",
        "\n",
        "#printing new list\n",
        "print(list1)"
      ],
      "metadata": {
        "colab": {
          "base_uri": "https://localhost:8080/"
        },
        "id": "1B9vRpnXBJyJ",
        "outputId": "1e440346-d78e-4628-8c49-292b3c9bfd40"
      },
      "execution_count": null,
      "outputs": [
        {
          "output_type": "stream",
          "name": "stdout",
          "text": [
            "[1, 2, 3, 'Souvik', 'Adhikary', 'MAKAUT', 6]\n"
          ]
        }
      ]
    },
    {
      "cell_type": "code",
      "source": [
        "#d) len()\n",
        "len(list1)"
      ],
      "metadata": {
        "colab": {
          "base_uri": "https://localhost:8080/"
        },
        "id": "JxUHVZlABYGG",
        "outputId": "3b3893f1-076b-4409-8593-af95fc0dbe8f"
      },
      "execution_count": null,
      "outputs": [
        {
          "output_type": "execute_result",
          "data": {
            "text/plain": [
              "7"
            ]
          },
          "metadata": {},
          "execution_count": 12
        }
      ]
    },
    {
      "cell_type": "code",
      "source": [
        "#e) pop()\n",
        "list1.pop(0)\n",
        "\n",
        "#printing new list\n",
        "print(list1)"
      ],
      "metadata": {
        "colab": {
          "base_uri": "https://localhost:8080/"
        },
        "id": "w-GmyxJaBdSs",
        "outputId": "76fc6e89-28da-4bf1-bf8c-794e352c0847"
      },
      "execution_count": null,
      "outputs": [
        {
          "output_type": "stream",
          "name": "stdout",
          "text": [
            "[2, 3, 'Souvik', 'Adhikary', 'MAKAUT', 6]\n"
          ]
        }
      ]
    },
    {
      "cell_type": "code",
      "source": [
        "#f) clear()\n",
        "list1.clear()\n",
        "\n",
        "#priting list now\n",
        "print(list1)"
      ],
      "metadata": {
        "colab": {
          "base_uri": "https://localhost:8080/"
        },
        "id": "V70g4jYsBn_a",
        "outputId": "23f40988-905d-4d5f-c88f-0e4bf3e4fa18"
      },
      "execution_count": null,
      "outputs": [
        {
          "output_type": "stream",
          "name": "stdout",
          "text": [
            "[]\n"
          ]
        }
      ]
    },
    {
      "cell_type": "code",
      "source": [
        "#python program to take in the marks of 5 subjects and display the grade\n",
        "sub1 = int(input(\"Enter the marks of first subject: \"))\n",
        "sub2 = int(input(\"Enter the marks of second subject: \"))\n",
        "sub3 = int(input(\"Enter the marks of third subject: \"))\n",
        "sub4 = int(input(\"Enter the marks of fourth subject: \"))\n",
        "sub5 = int(input(\"Enter the marks of fifth subject: \"))\n",
        "\n",
        "tot = sub1+sub2+sub3+sub4+sub5\n",
        "avg = tot/5\n",
        "\n",
        "if (avg >= 90):\n",
        "  print(\"Student grade is A\")\n",
        "elif (avg >= 80 and avg < 90):\n",
        "  print(\"Student grade is B\")\n",
        "elif (avg >= 70 and avg < 80):\n",
        "  print(\"Studnet grade is C\")\n",
        "elif (avg >= 60 and avg < 70):\n",
        "  print(\"studnet grade is D\")\n",
        "elif (avg >= 35 and avg < 60):\n",
        "  print(\"Student grade is E\")\n",
        "else:\n",
        "  print(\"Student failed\")"
      ],
      "metadata": {
        "colab": {
          "base_uri": "https://localhost:8080/"
        },
        "id": "HZApkP8nB0Ou",
        "outputId": "54d54714-17b6-4bde-e68b-2c7af3917afd"
      },
      "execution_count": null,
      "outputs": [
        {
          "output_type": "stream",
          "name": "stdout",
          "text": [
            "Enter the marks of first subject: 10\n",
            "Enter the marks of second subject: 2\n",
            "Enter the marks of third subject: 3\n",
            "Enter the marks of fourth subject: 6\n",
            "Enter the marks of fifth subject: 4\n",
            "Student failed\n"
          ]
        }
      ]
    },
    {
      "cell_type": "code",
      "source": [
        "#Python program to reverse a given number\n",
        "n = int(input(\"Enter number: \"))\n",
        "rev = 0\n",
        "while (n > 0):\n",
        "    dig = n%10\n",
        "    rev = rev * 10 + dig\n",
        "    n = n//10\n",
        "print(\"Reverse of the number:\", rev)"
      ],
      "metadata": {
        "colab": {
          "base_uri": "https://localhost:8080/"
        },
        "id": "A_llkhEQOHVM",
        "outputId": "9af172ca-a0e7-4666-c28c-685e70359ae9"
      },
      "execution_count": null,
      "outputs": [
        {
          "output_type": "stream",
          "name": "stdout",
          "text": [
            "Enter number: 456\n",
            "Reverse of the number: 654\n"
          ]
        }
      ]
    },
    {
      "cell_type": "code",
      "source": [
        "#Python program to read a number n and compute n+nn+nnn.......\n",
        "n = int(input(\"Enter a number n: \"))\n",
        "temp = str(n)\n",
        "t1 = temp+temp\n",
        "t2 = temp+temp+temp\n",
        "t3 = temp+temp+temp+temp\n",
        "t4 = temp+temp+temp+temp+temp\n",
        "comp = n + int(t1) + int(t2) + int(t3) + int(t4)\n",
        "print(\"The value is:\",comp)"
      ],
      "metadata": {
        "colab": {
          "base_uri": "https://localhost:8080/"
        },
        "id": "D6LzwHrFOlgC",
        "outputId": "6bf1ecca-4522-419a-c2a2-603af2b3b38c"
      },
      "execution_count": null,
      "outputs": [
        {
          "output_type": "stream",
          "name": "stdout",
          "text": [
            "Enter a number n: 4\n",
            "The value is: 49380\n"
          ]
        }
      ]
    },
    {
      "cell_type": "code",
      "source": [
        "#Write a python program to print date, time for today and now.\n",
        "import datetime\n",
        "now = datetime.datetime.now()\n",
        "print(\"Time for today and now: \")\n",
        "print(now.strftime(\"%d-%m-%Y %H:%M:%S\"))"
      ],
      "metadata": {
        "colab": {
          "base_uri": "https://localhost:8080/"
        },
        "id": "DER_drD6PAnw",
        "outputId": "393803a2-09c5-4179-bdec-0c08e0de361c"
      },
      "execution_count": null,
      "outputs": [
        {
          "output_type": "stream",
          "name": "stdout",
          "text": [
            "Time for today and now: \n",
            "15-12-2022 14:57:01\n"
          ]
        }
      ]
    },
    {
      "cell_type": "code",
      "source": [
        "#Using a numpy module creating an array\n",
        "import numpy as np\n",
        "arr = np.array([1, 2, 3, 4, 5])\n",
        "print(arr)"
      ],
      "metadata": {
        "colab": {
          "base_uri": "https://localhost:8080/"
        },
        "id": "beoUqBG5Q2Wb",
        "outputId": "03c5e843-2f0d-49d1-8b70-28ca4383bbaf"
      },
      "execution_count": null,
      "outputs": [
        {
          "output_type": "stream",
          "name": "stdout",
          "text": [
            "[1 2 3 4 5]\n"
          ]
        }
      ]
    },
    {
      "cell_type": "code",
      "source": [
        "#a)type of array\n",
        "print(type(arr))"
      ],
      "metadata": {
        "colab": {
          "base_uri": "https://localhost:8080/"
        },
        "id": "Zh3FA8amUTnh",
        "outputId": "7ced828f-4170-43e6-f938-488554ffb5c8"
      },
      "execution_count": null,
      "outputs": [
        {
          "output_type": "stream",
          "name": "stdout",
          "text": [
            "<class 'numpy.ndarray'>\n"
          ]
        }
      ]
    },
    {
      "cell_type": "code",
      "source": [
        "#b)axes of array\n",
        "import numpy as np\n",
        "np_array = np.arange(0, 8).reshape([4, 2])\n",
        "print(np_array)"
      ],
      "metadata": {
        "colab": {
          "base_uri": "https://localhost:8080/"
        },
        "id": "N7MlOyDAUbFe",
        "outputId": "e1c1518f-1b54-4c7e-f935-1728f1af96d0"
      },
      "execution_count": null,
      "outputs": [
        {
          "output_type": "stream",
          "name": "stdout",
          "text": [
            "[[0 1]\n",
            " [2 3]\n",
            " [4 5]\n",
            " [6 7]]\n"
          ]
        }
      ]
    },
    {
      "cell_type": "code",
      "source": [
        "#one more type of axis \n",
        "import numpy as np\n",
        "np_array1 = np.arange(0, 10).reshape(2, 5)\n",
        "print(np_array1)"
      ],
      "metadata": {
        "id": "qzhpLlk1kTZr",
        "outputId": "65709bc8-1e94-4f3e-9aa0-75150b7fcc16",
        "colab": {
          "base_uri": "https://localhost:8080/"
        }
      },
      "execution_count": null,
      "outputs": [
        {
          "output_type": "stream",
          "name": "stdout",
          "text": [
            "[[0 1 2 3 4]\n",
            " [5 6 7 8 9]]\n"
          ]
        }
      ]
    },
    {
      "cell_type": "code",
      "source": [
        "#c)shape of array\n",
        "import numpy as np\n",
        "arr1 = np.array([[1,2.3,\"Adhikary\"], [4.1,5,\"Souvik\"]])\n",
        "print(arr1.shape)"
      ],
      "metadata": {
        "colab": {
          "base_uri": "https://localhost:8080/"
        },
        "id": "1YgC_QV6UkhC",
        "outputId": "8303b4dd-ccf3-4523-bd47-c7ddb2476876"
      },
      "execution_count": null,
      "outputs": [
        {
          "output_type": "stream",
          "name": "stdout",
          "text": [
            "(2, 3)\n"
          ]
        }
      ]
    },
    {
      "cell_type": "code",
      "source": [
        "#D)Types of element in array\n",
        "import numpy as np\n",
        "element = np.array([1, 2, 3])\n",
        "print(element.dtype)"
      ],
      "metadata": {
        "colab": {
          "base_uri": "https://localhost:8080/"
        },
        "id": "eE3ZSFsvW8Rp",
        "outputId": "142702cc-c88d-4383-d380-dd5aadb20d7f"
      },
      "execution_count": null,
      "outputs": [
        {
          "output_type": "stream",
          "name": "stdout",
          "text": [
            "int64\n"
          ]
        }
      ]
    }
  ]
}